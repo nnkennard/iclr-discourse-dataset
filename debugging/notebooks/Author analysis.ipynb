{
 "cells": [
  {
   "cell_type": "code",
   "execution_count": 5,
   "id": "productive-attachment",
   "metadata": {},
   "outputs": [
    {
     "name": "stdout",
     "output_type": "stream",
     "text": [
      "95\n"
     ]
    },
    {
     "data": {
      "text/plain": [
       "Counter({3: 37, 2: 31, 1: 24, 4: 3})"
      ]
     },
     "execution_count": 5,
     "metadata": {},
     "output_type": "execute_result"
    }
   ],
   "source": [
    "directory = \"0517_split_2/train/\"\n",
    "import numpy as np\n",
    "import glob\n",
    "import json\n",
    "import collections\n",
    "\n",
    "obj_by_forum = collections.defaultdict(list)\n",
    "for file_name in glob.glob(directory+\"/*\"):\n",
    "    with open(file_name, 'r') as f:\n",
    "        obj = json.load(f)\n",
    "        obj_by_forum[obj[\"metadata\"][\"forum_id\"]].append(obj)\n",
    "        \n",
    "        \n",
    "\n",
    "all_objs = sum(obj_by_forum.values(),[])\n",
    "with open(\"raj-sentences.tsv\", 'w') as f:\n",
    "    for obj in all_objs:\n",
    "        for sent, labels in zip(obj[\"review\"], obj[\"reviewlabels\"]):\n",
    "            f.write(\"\\t\".join([ \"review\", labels[\"labels\"][\"coarse\"],sent[\"sentence\"],] )+\"\\n\")\n",
    "        for sent, labels in zip(obj[\"rebuttal\"], obj[\"rebuttallabels\"]):\n",
    "            f.write(\"\\t\".join([ \"rebuttal\", labels[\"labels\"][\"responsetype\"],sent[\"sentence\"]])+\"\\n\" )\n",
    "\n",
    "print(len(obj_by_forum))\n",
    "collections.Counter(len(c) for c in obj_by_forum.values())"
   ]
  },
  {
   "cell_type": "code",
   "execution_count": null,
   "id": "extraordinary-hotel",
   "metadata": {},
   "outputs": [],
   "source": [
    "def condense_sequence(seq):\n",
    "    new_seq = [None]\n",
    "    for item in seq:\n",
    "        if new_seq[-1] == item:\n",
    "            continue\n",
    "        else:\n",
    "            new_seq.append(item)\n",
    "    return new_seq[1:]\n",
    "\n",
    "for obj in all_objs:\n",
    "    for i, label in enumerate(obj[\"rebuttallabels\"]):\n",
    "        alignments = label[\"labels\"][\"alignments\"]\n",
    "        condensed = condense_sequence(\n",
    "            [obj[\"reviewlabels\"][j][\"labels\"][\"coarse\"]\n",
    "             for j in alignments])\n",
    "        if alignments:\n",
    "            print(label[\"labels\"][\"responsetype\"], \"|\".join(condensed))"
   ]
  },
  {
   "cell_type": "code",
   "execution_count": 8,
   "id": "through-meaning",
   "metadata": {},
   "outputs": [
    {
     "name": "stdout",
     "output_type": "stream",
     "text": [
      "Ske31kBtPr 0.0 [0.75]\n",
      "ryGWhJBtDB 0.015827263267429757 [0.2, 0.45161290322580644]\n",
      "rJehNT4YPr 0.017064361658956244 [0.40540540540540543, 0.6666666666666666]\n",
      "SyMDXnCcF7 0.0 [0.8]\n",
      "SylKoo0cKm nan []\n",
      "Hkl5aoR5tm nan []\n",
      "SkxBUpEKwH 0.0 [0.75]\n",
      "SylGpT4FPS 0.014528858418367352 [0.5714285714285714, 0.8125]\n",
      "BkgWHnR5tm 0.003635380622837371 [0.65, 0.5294117647058824]\n",
      "rkle3i09K7 0.008574263038548755 [0.42857142857142855, 0.42857142857142855, 0.625]\n",
      "S1xLZ2R5KQ 0.0017361111111111104 [0.25, 0.3333333333333333]\n",
      "SyVuRiC5K7 0.0 [0.8947368421052632]\n",
      "rJl2E3AcF7 0.1217319768143944 [0.07142857142857142, 0.7692307692307693]\n",
      "Byx93sC9tm 0.005254565860626466 [0.36363636363636365, 0.3333333333333333, 0.5]\n",
      "S1ecYANtPr 0.039999999999999994 [0.7333333333333333, 0.3333333333333333]\n",
      "HyGEM3C9KQ 0.0 [0.6666666666666666]\n",
      "HJeu43ActQ 0.0 [0.5625]\n",
      "HklAhi09Y7 0.012345679012345678 [0.6666666666666666, 0.4444444444444444]\n",
      "Hyx4knR9Ym 0.011248852157943065 [0.6666666666666666, 0.45454545454545453]\n",
      "HJgfDREKDB 0.0 [0.7777777777777778]\n",
      "rkxciiC9tm 0.0069444444444444415 [0.6666666666666666, 0.5]\n",
      "rkxd2oR9Y7 0.047654320987654326 [0.6, 0.8333333333333334, 0.3]\n",
      "S1lhbnRqF7 0.0 [0.4]\n",
      "rJl6M2C5Y7 0.00549636081528015 [0.8, 0.7222222222222222, 0.9032258064516129]\n",
      "H1gR5iR5FX 0.019630522479525323 [0.5, 0.38461538461538464, 0.7222222222222222]\n",
      "S1gd7nCcF7 0.04626908839363051 [0.16666666666666666, 0.07692307692307693, 0.5714285714285714]\n",
      "Hkx-ii05FQ 0.06890625 [0.9, 0.375]\n",
      "rylV-2C9KQ 0.0011111111111111107 [0.8333333333333334, 0.9]\n",
      "Syf9Q209YQ 0.025993773126640266 [0.45454545454545453, 0.8, 0.46153846153846156]\n",
      "SyzrLjA5FQ 0.07319776106004022 [0.9661016949152542, 0.425]\n",
      "HJlEUoR9Km 0.0035430839002267584 [0.7857142857142857, 0.6666666666666666]\n",
      "rJNwDjAqYX 0.047444581462466696 [0.6428571428571429, 0.8181818181818182, 0.29411764705882354]\n",
      "HyEl3o05Fm 0.0 [0.9166666666666666]\n",
      "rkgv9oRqtQ 8.03804994054702e-05 [0.88, 0.8620689655172413]\n",
      "ByljMaNKwB 0.029746454443424136 [0.5833333333333334, 0.5454545454545454, 0.2]\n",
      "SJl8gnAqtX 0.0032283057851239675 [0.25, 0.36363636363636365]\n",
      "Hyewf3AqYX 0.0 [0.9166666666666666]\n"
     ]
    }
   ],
   "source": [
    "directory = \"0517_split_2/train/\"\n",
    "import numpy as np\n",
    "import glob\n",
    "import json\n",
    "import collections\n",
    "\n",
    "obj_by_forum = collections.defaultdict(list)\n",
    "for file_name in glob.glob(directory+\"/*\"):\n",
    "    with open(file_name, 'r') as f:\n",
    "        obj = json.load(f)\n",
    "        obj_by_forum[obj[\"metadata\"][\"forum_id\"]].append(obj)\n",
    "\n",
    "\n",
    "def agree_ratio(obj):\n",
    "    counts = collections.Counter()\n",
    "    for sent in obj[\"rebuttallabels\"]:\n",
    "        counts[sent[\"labels\"][\"coarseresponse\"]] += 1\n",
    "    if 'concur' not in counts or 'dispute' not in counts:\n",
    "        return None\n",
    "    #return (counts[\"concur\"] + 1)/(counts[\"dispute\"] + 1)\n",
    "    return (counts[\"concur\"])/(counts['concur'] + counts[\"dispute\"] + 1)\n",
    "\n",
    "\n",
    "for forum, reviews in obj_by_forum.items():\n",
    "    scores = [int(r[\"metadata\"][\"rating\"].split(\":\")[0]) for r in reviews]\n",
    "    if len(scores) == 3:\n",
    "        agrees = [agree_ratio(r) for r in reviews]\n",
    "        agrees = [i for i in agrees if i is not None]\n",
    "        print(forum, np.var(agrees), agrees)\n",
    "        "
   ]
  },
  {
   "cell_type": "code",
   "execution_count": null,
   "id": "blocked-project",
   "metadata": {},
   "outputs": [],
   "source": []
  }
 ],
 "metadata": {
  "kernelspec": {
   "display_name": "Python 3",
   "language": "python",
   "name": "python3"
  },
  "language_info": {
   "codemirror_mode": {
    "name": "ipython",
    "version": 3
   },
   "file_extension": ".py",
   "mimetype": "text/x-python",
   "name": "python",
   "nbconvert_exporter": "python",
   "pygments_lexer": "ipython3",
   "version": "3.9.0"
  }
 },
 "nbformat": 4,
 "nbformat_minor": 5
}
