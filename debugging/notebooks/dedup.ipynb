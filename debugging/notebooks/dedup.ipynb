{
 "cells": [
  {
   "cell_type": "code",
   "execution_count": 15,
   "id": "expensive-update",
   "metadata": {},
   "outputs": [],
   "source": [
    "import csv\n",
    "\n",
    "for subset in \"train dev test\".split():\n",
    "\n",
    "    with open(\"/Users/nnayak/review-sentence_\" + subset + \".csv\") as f:\n",
    "        k = csv.DictReader(f)\n",
    "\n",
    "        rows_to_keep = []\n",
    "        seen_sentences = set()\n",
    "\n",
    "\n",
    "        for i, row in enumerate(k):\n",
    "            if row['sentence'] in seen_sentences:\n",
    "                continue\n",
    "            else:\n",
    "                seen_sentences.add(row[\"sentence\"])\n",
    "                rows_to_keep.append(row)\n",
    "                \n",
    "        with open(\"/Users/nnayak/review-sentence_\" + subset + \"_clean.csv\", 'w') as g:\n",
    "            l = csv.DictWriter(g, fieldnames=k.fieldnames)\n",
    "            l.writeheader()\n",
    "            for row in rows_to_keep:\n",
    "                l.writerow(row)"
   ]
  },
  {
   "cell_type": "code",
   "execution_count": null,
   "id": "olive-newport",
   "metadata": {},
   "outputs": [],
   "source": []
  }
 ],
 "metadata": {
  "kernelspec": {
   "display_name": "Python 3",
   "language": "python",
   "name": "python3"
  },
  "language_info": {
   "codemirror_mode": {
    "name": "ipython",
    "version": 3
   },
   "file_extension": ".py",
   "mimetype": "text/x-python",
   "name": "python",
   "nbconvert_exporter": "python",
   "pygments_lexer": "ipython3",
   "version": "3.9.0"
  }
 },
 "nbformat": 4,
 "nbformat_minor": 5
}
