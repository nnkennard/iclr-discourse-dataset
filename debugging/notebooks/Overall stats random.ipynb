{
 "cells": [
  {
   "cell_type": "code",
   "execution_count": 1,
   "id": "abroad-butler",
   "metadata": {},
   "outputs": [],
   "source": [
    "\n",
    "DATA_DIR = \"/Users/nnayak/git_repos/iclr-discourse-dataset/data/review_rebuttal_pair_dataset/\""
   ]
  },
  {
   "cell_type": "code",
   "execution_count": 2,
   "id": "traditional-valentine",
   "metadata": {},
   "outputs": [],
   "source": [
    "import json"
   ]
  },
  {
   "cell_type": "code",
   "execution_count": 5,
   "id": "arbitrary-thong",
   "metadata": {},
   "outputs": [
    {
     "name": "stdout",
     "output_type": "stream",
     "text": [
      "train 2148 49204 64284\n",
      "dev 744 16665 22990\n",
      "test 687 15455 20707\n"
     ]
    }
   ],
   "source": [
    "for subset in \"train dev test\".split():\n",
    "    with open(DATA_DIR + \"/traindev_\" + subset + \".json\", 'r') as f:\n",
    "        data = json.load(f)\n",
    "        print(subset, len(data[\"review_rebuttal_pairs\"]), num_sentences(data, \"review\"), num_sentences(data, \"rebuttal\"))"
   ]
  },
  {
   "cell_type": "code",
   "execution_count": 4,
   "id": "extra-surprise",
   "metadata": {},
   "outputs": [],
   "source": [
    "def num_sentences(data, review_or_rebuttal):\n",
    "    assert review_or_rebuttal in \"review rebuttal\".split()\n",
    "    return sum(len(x[review_or_rebuttal + \"_text\"][\"sentences\"]) for x in data[\"review_rebuttal_pairs\"])"
   ]
  },
  {
   "cell_type": "code",
   "execution_count": null,
   "id": "underlying-topic",
   "metadata": {},
   "outputs": [],
   "source": []
  }
 ],
 "metadata": {
  "kernelspec": {
   "display_name": "Python 3",
   "language": "python",
   "name": "python3"
  },
  "language_info": {
   "codemirror_mode": {
    "name": "ipython",
    "version": 3
   },
   "file_extension": ".py",
   "mimetype": "text/x-python",
   "name": "python",
   "nbconvert_exporter": "python",
   "pygments_lexer": "ipython3",
   "version": "3.9.0"
  }
 },
 "nbformat": 4,
 "nbformat_minor": 5
}
