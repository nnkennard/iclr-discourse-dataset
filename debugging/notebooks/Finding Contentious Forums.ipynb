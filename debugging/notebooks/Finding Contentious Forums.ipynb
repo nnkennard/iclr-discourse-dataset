{
 "cells": [
  {
   "cell_type": "code",
   "execution_count": 1,
   "id": "remarkable-murder",
   "metadata": {},
   "outputs": [],
   "source": [
    "import csv\n",
    "import collections\n",
    "import json\n",
    "import openreview\n",
    "import openreview_lib as orl\n",
    "import os\n",
    "import sys\n",
    "import tqdm"
   ]
  },
  {
   "cell_type": "code",
   "execution_count": 3,
   "id": "respiratory-times",
   "metadata": {},
   "outputs": [
    {
     "ename": "FileNotFoundError",
     "evalue": "[Errno 2] No such file or directory: '../../data/review_rebuttal_pair_dataset/unstructured_train.json'",
     "output_type": "error",
     "traceback": [
      "\u001b[0;31m---------------------------------------------------------------------------\u001b[0m",
      "\u001b[0;31mFileNotFoundError\u001b[0m                         Traceback (most recent call last)",
      "\u001b[0;32m<ipython-input-3-1dfe110d4065>\u001b[0m in \u001b[0;36m<module>\u001b[0;34m\u001b[0m\n\u001b[0;32m----> 1\u001b[0;31m \u001b[0;32mwith\u001b[0m \u001b[0mopen\u001b[0m\u001b[0;34m(\u001b[0m\u001b[0;34m'../../data/review_rebuttal_pair_dataset/unstructured_train.json'\u001b[0m\u001b[0;34m,\u001b[0m \u001b[0;34m'r'\u001b[0m\u001b[0;34m)\u001b[0m \u001b[0;32mas\u001b[0m \u001b[0mf\u001b[0m\u001b[0;34m:\u001b[0m\u001b[0;34m\u001b[0m\u001b[0;34m\u001b[0m\u001b[0m\n\u001b[0m\u001b[1;32m      2\u001b[0m     \u001b[0mpairs\u001b[0m \u001b[0;34m=\u001b[0m \u001b[0mjson\u001b[0m\u001b[0;34m.\u001b[0m\u001b[0mload\u001b[0m\u001b[0;34m(\u001b[0m\u001b[0mf\u001b[0m\u001b[0;34m)\u001b[0m\u001b[0;34m\u001b[0m\u001b[0;34m\u001b[0m\u001b[0m\n\u001b[1;32m      3\u001b[0m \u001b[0;34m\u001b[0m\u001b[0m\n\u001b[1;32m      4\u001b[0m \u001b[0mpairs_by_forum\u001b[0m \u001b[0;34m=\u001b[0m \u001b[0mcollections\u001b[0m\u001b[0;34m.\u001b[0m\u001b[0mdefaultdict\u001b[0m\u001b[0;34m(\u001b[0m\u001b[0mlist\u001b[0m\u001b[0;34m)\u001b[0m\u001b[0;34m\u001b[0m\u001b[0;34m\u001b[0m\u001b[0m\n\u001b[1;32m      5\u001b[0m \u001b[0;32mfor\u001b[0m \u001b[0mpair\u001b[0m \u001b[0;32min\u001b[0m \u001b[0mpairs\u001b[0m\u001b[0;34m[\u001b[0m\u001b[0;34m\"review_rebuttal_pairs\"\u001b[0m\u001b[0;34m]\u001b[0m\u001b[0;34m:\u001b[0m\u001b[0;34m\u001b[0m\u001b[0;34m\u001b[0m\u001b[0m\n",
      "\u001b[0;31mFileNotFoundError\u001b[0m: [Errno 2] No such file or directory: '../../data/review_rebuttal_pair_dataset/unstructured_train.json'"
     ]
    }
   ],
   "source": [
    "with open('../../data/review_rebuttal_pair_dataset/unstructured_train.json', 'r') as f:\n",
    "    pairs = json.load(f)\n",
    "    \n",
    "pairs_by_forum = collections.defaultdict(list)\n",
    "for pair in pairs[\"review_rebuttal_pairs\"]:\n",
    "    pairs_by_forum[pair[\"forum\"]].append(pair)"
   ]
  },
  {
   "cell_type": "code",
   "execution_count": null,
   "id": "russian-contract",
   "metadata": {},
   "outputs": [],
   "source": [
    "confidence_map = collections.defaultdict(list)\n",
    "guest_client = openreview.Client(baseurl='https://api.openreview.net')\n",
    "for forum in tqdm.tqdm(pairs_by_forum.keys()):\n",
    "    forum_comments = guest_client.get_notes(forum=forum)\n",
    "    for comment in forum_comments:\n",
    "        print(comment.content.keys())\n",
    "        if \"Area_Chair\" in orl.flatten_signature(comment) and 'recommendation' in comment.content:\n",
    "            confidence = comment.content[\"confidence\"]\n",
    "            confidence_map[confidence].append(forum)\n",
    "            break\n",
    "dsds"
   ]
  },
  {
   "cell_type": "code",
   "execution_count": null,
   "id": "minimal-kentucky",
   "metadata": {
    "scrolled": true
   },
   "outputs": [],
   "source": [
    "for unsure_forum in confidence_map[\"2: The area chair is not sure\"]:\n",
    "    unsure_pairs = pairs_by_forum[unsure_forum]\n",
    "    ratings = [pair[\"labels\"][\"rating\"] for pair in unsure_pairs]\n",
    "    rating_range = max(ratings) - min(ratings)\n",
    "    if rating_range >= 3:\n",
    "        rating_list = \" \".join([str(i) for i in sorted(ratings)])\n",
    "        print(\",\".join([str(rating_range), rating_list,\n",
    "                         unsure_pairs[0][\"title\"],\n",
    "                         \"https://openreview.net/forum?id=\"+unsure_forum]))\n",
    "            "
   ]
  },
  {
   "cell_type": "code",
   "execution_count": null,
   "id": "duplicate-mineral",
   "metadata": {},
   "outputs": [],
   "source": [
    "SELECTED_PRELIMINARY_ANNOTATION_FORUM = \"HJg6e2CcK7\""
   ]
  },
  {
   "cell_type": "code",
   "execution_count": null,
   "id": "wired-frederick",
   "metadata": {},
   "outputs": [],
   "source": [
    "def get_text_as_string(tokenized_text, review_or_rebuttal):\n",
    "    if review_or_rebuttal == \"review\":\n",
    "        prefix = \"V\"\n",
    "    else:\n",
    "        assert review_or_rebuttal == \"rebuttal\"\n",
    "        prefix = \"B\"\n",
    "    text_builder = []\n",
    "    for para in tokenized_text:\n",
    "        for sentence in para:\n",
    "            text_builder.append(\" \".join(sentence))\n",
    "        text_builder.append(\"\")\n",
    "\n",
    "    return [\n",
    "            (prefix + str(i), sentence)\n",
    "            for i, sentence in enumerate(text_builder)]\n",
    "\n",
    "def pad(text, max_len):\n",
    "    return text + [(\"\", \"\")] * (max_len - len(text))\n",
    "\n",
    "FIELD_NAMES = (\"Review_index Review_sentence Grounding Review_affordance ---- \"\n",
    "               \"Rebuttal_index Rebuttal_sentence Grounding Related_to Relation Notes\").split()\n",
    "\n",
    "def build_csv_lines(review_text, rebuttal_text):\n",
    "    assert len(review_text) == len(rebuttal_text)\n",
    "    lines = []\n",
    "    for ((review_i, review_sentence),\n",
    "            (rebuttal_i, rebuttal_sentence)) in zip(review_text, rebuttal_text):\n",
    "        lines.append((review_i, review_sentence, \"\", \"\", \"\", rebuttal_i,\n",
    "            rebuttal_sentence, \"\", \"\", \"\", \"\"))\n",
    "    return lines\n",
    "\n",
    "\n",
    "def build_lines(pair):\n",
    "    review_text = get_text_as_string(pair[\"review_text\"],\n",
    "            \"review\")\n",
    "    rebuttal_text = get_text_as_string(pair[\"rebuttal_text\"],\n",
    "            \"rebuttal\")\n",
    "    max_len = max([len(rebuttal_text), len(review_text)])\n",
    "    padded_review_text = pad(review_text, max_len)\n",
    "    padded_rebuttal_text = pad(rebuttal_text, max_len)\n",
    "    csv_lines = build_csv_lines(padded_review_text,\n",
    "            padded_rebuttal_text)\n",
    "    return csv_lines"
   ]
  },
  {
   "cell_type": "code",
   "execution_count": null,
   "id": "unsigned-liver",
   "metadata": {},
   "outputs": [],
   "source": [
    "for pair in pairs_by_forum[SELECTED_PRELIMINARY_ANNOTATION_FORUM]:\n",
    "    csv_lines = build_lines(pair)\n",
    "    filename = \"\".join([\n",
    "        \"pre_pilot/template_\", SELECTED_PRELIMINARY_ANNOTATION_FORUM, \"_\", pair[\"review_author\"], \".csv\"])\n",
    "    with open(filename, 'w', encoding='utf8') as f:\n",
    "        writer = csv.writer(f)\n",
    "        writer.writerow(FIELD_NAMES)\n",
    "        for line in csv_lines:\n",
    "            writer.writerow(line)"
   ]
  },
  {
   "cell_type": "code",
   "execution_count": null,
   "id": "needed-stroke",
   "metadata": {},
   "outputs": [],
   "source": []
  }
 ],
 "metadata": {
  "kernelspec": {
   "display_name": "Python 3",
   "language": "python",
   "name": "python3"
  },
  "language_info": {
   "codemirror_mode": {
    "name": "ipython",
    "version": 3
   },
   "file_extension": ".py",
   "mimetype": "text/x-python",
   "name": "python",
   "nbconvert_exporter": "python",
   "pygments_lexer": "ipython3",
   "version": "3.9.0"
  }
 },
 "nbformat": 4,
 "nbformat_minor": 5
}
