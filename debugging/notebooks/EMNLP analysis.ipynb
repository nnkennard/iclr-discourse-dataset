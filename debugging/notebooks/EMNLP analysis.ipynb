{
 "cells": [
  {
   "cell_type": "code",
   "execution_count": 10,
   "id": "coupled-reading",
   "metadata": {},
   "outputs": [],
   "source": [
    "directory = \"0517_split_2/train/\"\n",
    "import glob\n",
    "import json\n",
    "\n",
    "obj_by_forum = collections.defaultdict(list)\n",
    "for file_name in glob.glob(directory+\"/*\"):\n",
    "    with open(file_name, 'r') as f:\n",
    "        obj = json.load(f)\n",
    "        obj_by_forum[obj[\"metadata\"][\"forum_id\"]].append(obj)\n",
    "all_objs = sum(obj_by_forum.values(), [])"
   ]
  },
  {
   "cell_type": "code",
   "execution_count": 17,
   "id": "upper-aerospace",
   "metadata": {},
   "outputs": [
    {
     "name": "stdout",
     "output_type": "stream",
     "text": [
      "153\n",
      "41\n"
     ]
    },
    {
     "data": {
      "image/png": "[encoded data removed]",
      "text/plain": [
       "<Figure size 432x288 with 1 Axes>"
      ]
     },
     "metadata": {
      "needs_background": "light"
     },
     "output_type": "display_data"
    }
   ],
   "source": [
    "import collections\n",
    "import matplotlib.pyplot as plt\n",
    "import pandas as pd\n",
    "import seaborn as sns\n",
    "all_alignments = collections.defaultdict(list)\n",
    "\n",
    "for obj in all_objs:\n",
    "    rev_id = obj[\"metadata\"][\"review\"]\n",
    "    assert rev_id not in all_alignments\n",
    "    for reb_i, rebuttal_label in enumerate(obj[\"rebuttallabels\"]):\n",
    "        alignments = rebuttal_label[\"labels\"][\"alignments\"]\n",
    "        for alignment_i in alignments:\n",
    "            all_alignments[rev_id].append({\n",
    "                \"rev_idx\": alignment_i,\n",
    "                \"reb_idx\": reb_i\n",
    "            })\n",
    "            \n",
    "spearmen = []\n",
    "for rev_id, data in all_alignments.items():\n",
    "    b = pd.DataFrame(data)\n",
    "    #print(b)\n",
    "    maybe_value = b.corr('spearman')[\"rev_idx\"][\"reb_idx\"]\n",
    "    if str(maybe_value) == \"nan\":\n",
    "        continue\n",
    "    else:\n",
    "        spearmen.append(b.corr('spearman')[\"rev_idx\"][\"reb_idx\"])\n",
    "    \n",
    "sns.distplot(spearmen, bins=40, kde=False)\n",
    "plt.ylabel(\"Number of review-rebuttal pairs\")\n",
    "plt.xlabel(\"Spearman's rho (rebuttal sent. idxs and aligned review sent. idxs)\")\n",
    "print(len([i for i in spearmen if i < 0.9]))\n",
    "print(len([i for i in spearmen if i >= 0.9]))\n",
    "plt.savefig(\"spearmen.png\")"
   ]
  },
  {
   "cell_type": "code",
   "execution_count": 13,
   "id": "egyptian-accident",
   "metadata": {},
   "outputs": [
    {
     "data": {
      "text/plain": [
       "0.211340206185567"
      ]
     },
     "execution_count": 13,
     "metadata": {},
     "output_type": "execute_result"
    }
   ],
   "source": [
    "41/(153+41)"
   ]
  },
  {
   "cell_type": "code",
   "execution_count": null,
   "id": "brutal-principle",
   "metadata": {},
   "outputs": [],
   "source": []
  }
 ],
 "metadata": {
  "kernelspec": {
   "display_name": "Python 3",
   "language": "python",
   "name": "python3"
  },
  "language_info": {
   "codemirror_mode": {
    "name": "ipython",
    "version": 3
   },
   "file_extension": ".py",
   "mimetype": "text/x-python",
   "name": "python",
   "nbconvert_exporter": "python",
   "pygments_lexer": "ipython3",
   "version": "3.9.0"
  }
 },
 "nbformat": 4,
 "nbformat_minor": 5
}
