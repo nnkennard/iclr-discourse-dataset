{
 "cells": [
  {
   "cell_type": "code",
   "execution_count": 8,
   "id": "fiscal-calvin",
   "metadata": {},
   "outputs": [],
   "source": [
    "import collections\n",
    "import json\n",
    "import numpy as np\n",
    "import seaborn as sns\n",
    "import matplotlib.pyplot as plt\n",
    "\n",
    "import math\n",
    "with open(\"/Users/nnayak/orda_annotations_0425.json\", 'r') as f:\n",
    "    orda_data = json.load(f)\n",
    "with open(\"/Users/nnayak/orda_assignments_0427.json\", 'r') as f:\n",
    "    orda_assignments = json.load(f)\n"
   ]
  },
  {
   "cell_type": "code",
   "execution_count": 9,
   "id": "diverse-robinson",
   "metadata": {},
   "outputs": [
    {
     "name": "stdout",
     "output_type": "stream",
     "text": [
      "dict_keys(['example', 'annotatorassignment'])\n"
     ]
    }
   ],
   "source": [
    "print(orda_assignments.keys())"
   ]
  },
  {
   "cell_type": "code",
   "execution_count": 35,
   "id": "christian-banking",
   "metadata": {},
   "outputs": [
    {
     "name": "stdout",
     "output_type": "stream",
     "text": [
      "traindev_train 2042\n",
      "traindev_dev 698\n",
      "traindev_test 658\n",
      "truetest 1094\n"
     ]
    }
   ],
   "source": [
    "lil_example = collections.namedtuple(\"lil_examples\", \"review_id dataset interleaved_index pk\".split())\n",
    "\n",
    "example_to_review_id_map = {}\n",
    "for e in orda_assignments[\"example\"]:\n",
    "    example_to_review_id_map[e[\"pk\"]] = lil_example(e[\"fields\"][\"review_id\"],\n",
    "                                                    e[\"fields\"][\"dataset\"], e[\"fields\"][\"interleaved_index\"], e[\"pk\"])\n",
    "\n",
    "assignment_counter = collections.defaultdict(lambda: collections.defaultdict(list))\n",
    "for i in orda_assignments[\"annotatorassignment\"]:\n",
    "    e = example_to_review_id_map[i[\"fields\"][\"example\"]]\n",
    "    if i[\"fields\"][\"num_rebuttal_sentences\"] == i[\"fields\"][\"num_completed_sentences\"]:\n",
    "        assignment_counter[e.dataset][e.review_id].append(i[\"fields\"][\"initials\"])\n",
    "    \n",
    "unannotated = collections.defaultdict(list)\n",
    "for v in example_to_review_id_map.values():\n",
    "    if not assignment_counter[v.dataset][v.review_id]:\n",
    "        unannotated[v.dataset].append(v.pk)\n",
    "        \n",
    "CONTINUING_ANNOTATORS = \"KG RG \"\n",
    "        \n",
    "for k, v in unannotated.items():\n",
    "    print(k, len(v))"
   ]
  },
  {
   "cell_type": "code",
   "execution_count": 27,
   "id": "brazilian-hydrogen",
   "metadata": {},
   "outputs": [
    {
     "name": "stdout",
     "output_type": "stream",
     "text": [
      "example\n",
      "5 1\n",
      "traindev_train\n",
      "1 68\n",
      "2 34\n",
      "3 4\n",
      "traindev_dev\n",
      "1 40\n",
      "2 4\n",
      "3 2\n",
      "traindev_test\n",
      "1 22\n",
      "2 7\n",
      "truetest\n",
      "1 44\n",
      "2 10\n",
      "3 4\n"
     ]
    }
   ],
   "source": [
    "for dataset, examples in assignment_counter.items():\n",
    "    print(dataset)\n",
    "    counter_of_things = collections.Counter([len(i) for i in examples.values()])\n",
    "    for k, v in counter_of_things.most_common():\n",
    "        print(k, v)"
   ]
  },
  {
   "cell_type": "code",
   "execution_count": null,
   "id": "collectible-breakdown",
   "metadata": {},
   "outputs": [],
   "source": []
  }
 ],
 "metadata": {
  "kernelspec": {
   "display_name": "Python 3",
   "language": "python",
   "name": "python3"
  },
  "language_info": {
   "codemirror_mode": {
    "name": "ipython",
    "version": 3
   },
   "file_extension": ".py",
   "mimetype": "text/x-python",
   "name": "python",
   "nbconvert_exporter": "python",
   "pygments_lexer": "ipython3",
   "version": "3.9.0"
  }
 },
 "nbformat": 4,
 "nbformat_minor": 5
}
