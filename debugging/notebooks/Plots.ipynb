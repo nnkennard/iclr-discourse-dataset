{
 "cells": [
  {
   "cell_type": "code",
   "execution_count": 1,
   "id": "caring-paint",
   "metadata": {},
   "outputs": [],
   "source": [
    "import seaborn as sns\n",
    "import matplotlib.pyplot as plt"
   ]
  },
  {
   "cell_type": "code",
   "execution_count": 5,
   "id": "prompt-assault",
   "metadata": {},
   "outputs": [],
   "source": [
    "# Import pandas library\n",
    "import pandas as pd\n",
    "  \n",
    "# initialize list of lists\n",
    "data = [[\"AMPERE\", 14200, 400],\n",
    "       [\"ASAP-Review\", 28119, 1000],\n",
    "       [\"AMSR\", 12135, 77],\n",
    "       [\"APE\",4764 , 4764],\n",
    "       [\"Ours (+)\", 3000 , 3000],\n",
    "       [\"Ours (-)\", 1000 , 1000],]\n",
    "  \n",
    "# Create the pandas DataFrame\n",
    "NUM_EX = 'A'\n",
    "NUM_HUM_EX = 'B'\n",
    "df = pd.DataFrame(data, columns = ['Name', NUM_EX , NUM_HUM_EX ])\n",
    "  "
   ]
  },
  {
   "cell_type": "code",
   "execution_count": 16,
   "id": "skilled-mambo",
   "metadata": {},
   "outputs": [
    {
     "data": {
      "image/png": "[encoded data removed]",
      "text/plain": [
       "<Figure size 432x288 with 1 Axes>"
      ]
     },
     "metadata": {
      "needs_background": "light"
     },
     "output_type": "display_data"
    }
   ],
   "source": [
    "sns.scatterplot(data=df, x=NUM_EX, y=NUM_HUM_EX)\n",
    "\n",
    "offset = 350\n",
    "for i in range(df.shape[0]):\n",
    "    plt.text(x=df.A[i]+offset,y=df.B[i],s=df.Name[i], \n",
    "          fontdict=dict(color='black',size=10))\n",
    "\n",
    "\n",
    "#Dataset\tNum. examples in dataset\tNum. human-annotated examples\n",
    "# AMPERE (Hua et al. 2019)\t14200\t400\n",
    "# ASAP-Review (Yuan et al. 2021)\t28119\t1000\n",
    "# AMSR (Fromm et al. 2020)\t12135\t77\n",
    "# APE (Cheng et al. 2020)\t4764\t4764\n",
    "# Ours (optimistic)\t3000\t3000\n",
    "# Ours (pessimistic)\t1000\t1000"
   ]
  },
  {
   "cell_type": "code",
   "execution_count": null,
   "id": "grateful-convertible",
   "metadata": {},
   "outputs": [],
   "source": [
    "# Label overlap -- Ours vs theirs\n",
    "# Some kind of tree diagram for the different types of sub-labels"
   ]
  }
 ],
 "metadata": {
  "kernelspec": {
   "display_name": "Python 3",
   "language": "python",
   "name": "python3"
  },
  "language_info": {
   "codemirror_mode": {
    "name": "ipython",
    "version": 3
   },
   "file_extension": ".py",
   "mimetype": "text/x-python",
   "name": "python",
   "nbconvert_exporter": "python",
   "pygments_lexer": "ipython3",
   "version": "3.9.0"
  }
 },
 "nbformat": 4,
 "nbformat_minor": 5
}
